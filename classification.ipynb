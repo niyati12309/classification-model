{
  "nbformat": 4,
  "nbformat_minor": 0,
  "metadata": {
    "colab": {
      "provenance": [],
      "authorship_tag": "ABX9TyOMKKgSeGGqbKu620brSwaA",
      "include_colab_link": true
    },
    "kernelspec": {
      "name": "python3",
      "display_name": "Python 3"
    },
    "language_info": {
      "name": "python"
    }
  },
  "cells": [
    {
      "cell_type": "markdown",
      "metadata": {
        "id": "view-in-github",
        "colab_type": "text"
      },
      "source": [
        "<a href=\"https://colab.research.google.com/github/niyati12309/classification-model/blob/main/classification.ipynb\" target=\"_parent\"><img src=\"https://colab.research.google.com/assets/colab-badge.svg\" alt=\"Open In Colab\"/></a>"
      ]
    },
    {
      "cell_type": "code",
      "source": [
        "import pandas as pd\n",
        "import numpy as np\n",
        "import matplotlib.pyplot as plt\n",
        "import seaborn as sns\n",
        "from sklearn.model_selection import train_test_split\n",
        "from sklearn.preprocessing import StandardScaler, LabelEncoder\n",
        "from sklearn.ensemble import RandomForestClassifier\n",
        "from sklearn.metrics import accuracy_score, classification_report, confusion_matrix\n"
      ],
      "metadata": {
        "id": "2nQrYwLXlJnh"
      },
      "execution_count": 20,
      "outputs": []
    },
    {
      "cell_type": "code",
      "source": [
        "dataset_path = '/content/drive/MyDrive/thyroid_disease.csv'\n",
        "df = pd.read_csv(dataset_path)\n"
      ],
      "metadata": {
        "id": "VF32QUWblG9S"
      },
      "execution_count": 21,
      "outputs": []
    },
    {
      "cell_type": "code",
      "source": [
        "print(df.head())\n",
        "print(df.info())\n",
        "print(df.describe())\n"
      ],
      "metadata": {
        "colab": {
          "base_uri": "https://localhost:8080/"
        },
        "id": "YqBQiidHlIIP",
        "outputId": "edb3e0e9-9fda-49c7-e4ca-e36acdcb1881"
      },
      "execution_count": 22,
      "outputs": [
        {
          "output_type": "stream",
          "name": "stdout",
          "text": [
            "   0    1     2    3    4    5\n",
            "0  1  107  10.1  2.2  0.9  2.7\n",
            "1  1  113   9.9  3.1  2.0  5.9\n",
            "2  1  127  12.9  2.4  1.4  0.6\n",
            "3  1  109   5.3  1.6  1.4  1.5\n",
            "4  1  105   7.3  1.5  1.5 -0.1\n",
            "<class 'pandas.core.frame.DataFrame'>\n",
            "RangeIndex: 215 entries, 0 to 214\n",
            "Data columns (total 6 columns):\n",
            " #   Column  Non-Null Count  Dtype  \n",
            "---  ------  --------------  -----  \n",
            " 0   0       215 non-null    int64  \n",
            " 1   1       215 non-null    int64  \n",
            " 2   2       215 non-null    float64\n",
            " 3   3       215 non-null    float64\n",
            " 4   4       215 non-null    float64\n",
            " 5   5       215 non-null    float64\n",
            "dtypes: float64(4), int64(2)\n",
            "memory usage: 10.2 KB\n",
            "None\n",
            "                0           1           2           3           4           5\n",
            "count  215.000000  215.000000  215.000000  215.000000  215.000000  215.000000\n",
            "mean     1.441860  109.595349    9.804651    2.050233    2.880000    4.199070\n",
            "std      0.726737   13.145447    4.697362    1.419486    6.118031    8.070519\n",
            "min      1.000000   65.000000    0.500000    0.200000    0.100000   -0.700000\n",
            "25%      1.000000  103.000000    7.100000    1.350000    1.000000    0.550000\n",
            "50%      1.000000  110.000000    9.200000    1.700000    1.300000    2.000000\n",
            "75%      2.000000  117.500000   11.300000    2.200000    1.700000    4.100000\n",
            "max      3.000000  144.000000   25.300000   10.000000   56.400000   56.300000\n"
          ]
        }
      ]
    },
    {
      "cell_type": "code",
      "source": [
        "print(df.isnull().sum())\n"
      ],
      "metadata": {
        "colab": {
          "base_uri": "https://localhost:8080/"
        },
        "id": "czV5pZfrljYr",
        "outputId": "96409884-d437-4878-9d6d-8444c2fb54f0"
      },
      "execution_count": 23,
      "outputs": [
        {
          "output_type": "stream",
          "name": "stdout",
          "text": [
            "0    0\n",
            "1    0\n",
            "2    0\n",
            "3    0\n",
            "4    0\n",
            "5    0\n",
            "dtype: int64\n"
          ]
        }
      ]
    },
    {
      "cell_type": "code",
      "source": [
        "df.fillna(df.mean(), inplace=True)\n"
      ],
      "metadata": {
        "id": "_VMdF5GblmgF"
      },
      "execution_count": 24,
      "outputs": []
    },
    {
      "cell_type": "code",
      "source": [
        "print(df.columns)  # Display column names\n"
      ],
      "metadata": {
        "colab": {
          "base_uri": "https://localhost:8080/"
        },
        "id": "TDx58ofzl7C1",
        "outputId": "b0a6c366-6faf-4c11-9f13-05c595716b6a"
      },
      "execution_count": 27,
      "outputs": [
        {
          "output_type": "stream",
          "name": "stdout",
          "text": [
            "Index(['0', '1', '2', '3', '4', '5'], dtype='object')\n"
          ]
        }
      ]
    },
    {
      "cell_type": "code",
      "source": [
        "X = df.iloc[:, :-1]  # Select all columns except the last (features)\n",
        "y = df.iloc[:, -1]   # Select the last column as the target\n"
      ],
      "metadata": {
        "id": "LHI5qLTtmFd8"
      },
      "execution_count": 28,
      "outputs": []
    },
    {
      "cell_type": "code",
      "source": [
        "X_train, X_test, y_train, y_test = train_test_split(X, y, test_size=0.2, random_state=42)\n",
        "\n",
        "print(\"Training data shape:\", X_train.shape)\n",
        "print(\"Testing data shape:\", X_test.shape)\n"
      ],
      "metadata": {
        "colab": {
          "base_uri": "https://localhost:8080/"
        },
        "id": "sir7HlimmJy1",
        "outputId": "c69336dc-dd2e-46e4-c826-f4590236e7e2"
      },
      "execution_count": 29,
      "outputs": [
        {
          "output_type": "stream",
          "name": "stdout",
          "text": [
            "Training data shape: (172, 5)\n",
            "Testing data shape: (43, 5)\n"
          ]
        }
      ]
    }
  ]
}